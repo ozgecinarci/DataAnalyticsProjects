{
 "cells": [
  {
   "cell_type": "code",
   "execution_count": 14,
   "id": "16df6eff",
   "metadata": {},
   "outputs": [
    {
     "name": "stdout",
     "output_type": "stream",
     "text": [
      "                                   0-5 ilan  5-10 ilan  10+ ilan\n",
      "                    Firma Sayılar                               \n",
      "Aylık Ortalama İlan 0-10 login          NaN        NaN       NaN\n",
      "                    10-100 login        NaN        NaN       NaN\n",
      "                    100+ login          NaN        NaN       NaN\n"
     ]
    }
   ],
   "source": [
    "import pandas as pd\n",
    "import numpy as np\n",
    "\n",
    "\n",
    "row = ['0-10 login', '10-100 login', '100+ login']\n",
    "column = ['0-5 ilan', '5-10 ilan', '10+ ilan']\n",
    "\n",
    "\n",
    "df = pd.DataFrame(np.nan, index=row, columns=column)\n",
    "\n",
    "\n",
    "df.index = pd.MultiIndex.from_product([['Aylık Ortalama İlan'], rows], names=['', 'Firma Sayılar'])\n",
    "\n",
    "\n",
    "print(df)"
   ]
  },
  {
   "cell_type": "code",
   "execution_count": null,
   "id": "5571e465",
   "metadata": {},
   "outputs": [],
   "source": []
  }
 ],
 "metadata": {
  "kernelspec": {
   "display_name": "Python 3 (ipykernel)",
   "language": "python",
   "name": "python3"
  },
  "language_info": {
   "codemirror_mode": {
    "name": "ipython",
    "version": 3
   },
   "file_extension": ".py",
   "mimetype": "text/x-python",
   "name": "python",
   "nbconvert_exporter": "python",
   "pygments_lexer": "ipython3",
   "version": "3.9.12"
  }
 },
 "nbformat": 4,
 "nbformat_minor": 5
}
