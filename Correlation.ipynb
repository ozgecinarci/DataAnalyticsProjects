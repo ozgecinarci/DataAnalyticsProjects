{
 "cells": [
  {
   "cell_type": "code",
   "execution_count": 27,
   "id": "6a595334",
   "metadata": {},
   "outputs": [
    {
     "name": "stdout",
     "output_type": "stream",
     "text": [
      " '0-10 login' ve '0-5 ilan arasındaki korelasyon: 1.0\n"
     ]
    }
   ],
   "source": [
    "import pandas as pd\n",
    "\n",
    "\n",
    "rows = ['0-10 login', '10-100 login', '100+ login']\n",
    "cols = ['0-5 ilan', '5-10 ilan', '10+ ilan', '0-10 login'] # '0-10 login' sütununu ekledik\n",
    "\n",
    "\n",
    "data = {'0-5 ilan': [10, 20, 30], '5-10 ilan': [40, 50, 60], '10+ ilan': [70, 80, 90], '0-10 login': [10, 40, 70]}\n",
    "df = pd.DataFrame(data, index=rows, columns=cols)\n",
    "\n",
    "\n",
    "pearsoncorrelation = df['0-10 login'].corr(df['0-5 ilan'], method='pearson')\n",
    "print(\" '0-10 login' ve '0-5 ilan arasındaki korelasyon:\", pearsoncorrelation)"
   ]
  },
  {
   "cell_type": "code",
   "execution_count": null,
   "id": "3429e390",
   "metadata": {},
   "outputs": [],
   "source": []
  }
 ],
 "metadata": {
  "kernelspec": {
   "display_name": "Python 3 (ipykernel)",
   "language": "python",
   "name": "python3"
  },
  "language_info": {
   "codemirror_mode": {
    "name": "ipython",
    "version": 3
   },
   "file_extension": ".py",
   "mimetype": "text/x-python",
   "name": "python",
   "nbconvert_exporter": "python",
   "pygments_lexer": "ipython3",
   "version": "3.9.12"
  }
 },
 "nbformat": 4,
 "nbformat_minor": 5
}
